{
 "cells": [
  {
   "cell_type": "code",
   "execution_count": 2,
   "metadata": {},
   "outputs": [
    {
     "data": {
      "text/html": [
       "<div>\n",
       "<style scoped>\n",
       "    .dataframe tbody tr th:only-of-type {\n",
       "        vertical-align: middle;\n",
       "    }\n",
       "\n",
       "    .dataframe tbody tr th {\n",
       "        vertical-align: top;\n",
       "    }\n",
       "\n",
       "    .dataframe thead th {\n",
       "        text-align: right;\n",
       "    }\n",
       "</style>\n",
       "<table border=\"1\" class=\"dataframe\">\n",
       "  <thead>\n",
       "    <tr style=\"text-align: right;\">\n",
       "      <th></th>\n",
       "      <th>datetime</th>\n",
       "      <th>location</th>\n",
       "      <th>bsnApIfNoOfUsers</th>\n",
       "      <th>bsnAPIfDot11TransmittedFragmentCount</th>\n",
       "      <th>bsnAPIfDot11MulticastTransmittedFrameCount</th>\n",
       "      <th>bsnAPIfDot11RetryCount</th>\n",
       "      <th>bsnAPIfDot11MultipleRetryCount</th>\n",
       "      <th>bsnAPIfDot11FrameDuplicateCount</th>\n",
       "      <th>bsnAPIfDot11RTSSuccessCount</th>\n",
       "      <th>bsnAPIfDot11RTSFailureCount</th>\n",
       "      <th>...</th>\n",
       "      <th>bsnAPIfDot11MulticastReceivedFrameCount</th>\n",
       "      <th>bsnAPIfDot11FCSErrorCount</th>\n",
       "      <th>bsnAPIfDot11TransmittedFrameCount</th>\n",
       "      <th>bsnAPIfDot11WEPUndecryptableCount</th>\n",
       "      <th>bsnAPIfDot11FailedCount</th>\n",
       "      <th>bsnAPIfLoadRxUtilization</th>\n",
       "      <th>bsnAPIfLoadTxUtilization</th>\n",
       "      <th>bsnAPIfLoadChannelUtilization</th>\n",
       "      <th>bsnAPIfLoadNumOfClients</th>\n",
       "      <th>bsnAPIfPoorSNRClients</th>\n",
       "    </tr>\n",
       "  </thead>\n",
       "  <tbody>\n",
       "    <tr>\n",
       "      <th>0</th>\n",
       "      <td>2015-01-01--00-00</td>\n",
       "      <td>AP-A10-5</td>\n",
       "      <td>0</td>\n",
       "      <td>6532826</td>\n",
       "      <td>355396</td>\n",
       "      <td>1666379</td>\n",
       "      <td>366814</td>\n",
       "      <td>81774</td>\n",
       "      <td>243070</td>\n",
       "      <td>526207</td>\n",
       "      <td>...</td>\n",
       "      <td>870978</td>\n",
       "      <td>431671759</td>\n",
       "      <td>214599205</td>\n",
       "      <td>5</td>\n",
       "      <td>2723435</td>\n",
       "      <td>0</td>\n",
       "      <td>0</td>\n",
       "      <td>0</td>\n",
       "      <td>0</td>\n",
       "      <td>0</td>\n",
       "    </tr>\n",
       "    <tr>\n",
       "      <th>1</th>\n",
       "      <td>2015-01-01--00-00</td>\n",
       "      <td>AP-A10-2</td>\n",
       "      <td>0</td>\n",
       "      <td>22747903</td>\n",
       "      <td>357512</td>\n",
       "      <td>3793748</td>\n",
       "      <td>667720</td>\n",
       "      <td>319500</td>\n",
       "      <td>590177</td>\n",
       "      <td>1347650</td>\n",
       "      <td>...</td>\n",
       "      <td>1011316</td>\n",
       "      <td>380220567</td>\n",
       "      <td>231300303</td>\n",
       "      <td>986</td>\n",
       "      <td>9645856</td>\n",
       "      <td>0</td>\n",
       "      <td>0</td>\n",
       "      <td>0</td>\n",
       "      <td>0</td>\n",
       "      <td>0</td>\n",
       "    </tr>\n",
       "    <tr>\n",
       "      <th>2</th>\n",
       "      <td>2015-01-01--00-00</td>\n",
       "      <td>Ustka-p1</td>\n",
       "      <td>0</td>\n",
       "      <td>1950</td>\n",
       "      <td>199900</td>\n",
       "      <td>0</td>\n",
       "      <td>0</td>\n",
       "      <td>0</td>\n",
       "      <td>0</td>\n",
       "      <td>0</td>\n",
       "      <td>...</td>\n",
       "      <td>68939</td>\n",
       "      <td>6188</td>\n",
       "      <td>116856285</td>\n",
       "      <td>0</td>\n",
       "      <td>1759</td>\n",
       "      <td>0</td>\n",
       "      <td>0</td>\n",
       "      <td>0</td>\n",
       "      <td>0</td>\n",
       "      <td>0</td>\n",
       "    </tr>\n",
       "    <tr>\n",
       "      <th>3</th>\n",
       "      <td>2015-01-01--00-00</td>\n",
       "      <td>AP-C7-1cdf.0fac.9104</td>\n",
       "      <td>0</td>\n",
       "      <td>34592765</td>\n",
       "      <td>357116</td>\n",
       "      <td>9998923</td>\n",
       "      <td>2156216</td>\n",
       "      <td>869887</td>\n",
       "      <td>1780188</td>\n",
       "      <td>2797429</td>\n",
       "      <td>...</td>\n",
       "      <td>497513</td>\n",
       "      <td>93569555</td>\n",
       "      <td>243628923</td>\n",
       "      <td>36</td>\n",
       "      <td>6939857</td>\n",
       "      <td>0</td>\n",
       "      <td>0</td>\n",
       "      <td>0</td>\n",
       "      <td>0</td>\n",
       "      <td>0</td>\n",
       "    </tr>\n",
       "    <tr>\n",
       "      <th>4</th>\n",
       "      <td>2015-01-01--00-00</td>\n",
       "      <td>C6-biblioteka</td>\n",
       "      <td>0</td>\n",
       "      <td>68720934</td>\n",
       "      <td>366074</td>\n",
       "      <td>18706657</td>\n",
       "      <td>3103553</td>\n",
       "      <td>1006329</td>\n",
       "      <td>2816447</td>\n",
       "      <td>6741983</td>\n",
       "      <td>...</td>\n",
       "      <td>891345</td>\n",
       "      <td>460786107</td>\n",
       "      <td>278925731</td>\n",
       "      <td>2321</td>\n",
       "      <td>8446559</td>\n",
       "      <td>0</td>\n",
       "      <td>0</td>\n",
       "      <td>1</td>\n",
       "      <td>1</td>\n",
       "      <td>1</td>\n",
       "    </tr>\n",
       "  </tbody>\n",
       "</table>\n",
       "<p>5 rows × 22 columns</p>\n",
       "</div>"
      ],
      "text/plain": [
       "            datetime              location  bsnApIfNoOfUsers  \\\n",
       "0  2015-01-01--00-00              AP-A10-5                 0   \n",
       "1  2015-01-01--00-00              AP-A10-2                 0   \n",
       "2  2015-01-01--00-00              Ustka-p1                 0   \n",
       "3  2015-01-01--00-00  AP-C7-1cdf.0fac.9104                 0   \n",
       "4  2015-01-01--00-00         C6-biblioteka                 0   \n",
       "\n",
       "   bsnAPIfDot11TransmittedFragmentCount  \\\n",
       "0                               6532826   \n",
       "1                              22747903   \n",
       "2                                  1950   \n",
       "3                              34592765   \n",
       "4                              68720934   \n",
       "\n",
       "   bsnAPIfDot11MulticastTransmittedFrameCount  bsnAPIfDot11RetryCount  \\\n",
       "0                                      355396                 1666379   \n",
       "1                                      357512                 3793748   \n",
       "2                                      199900                       0   \n",
       "3                                      357116                 9998923   \n",
       "4                                      366074                18706657   \n",
       "\n",
       "   bsnAPIfDot11MultipleRetryCount  bsnAPIfDot11FrameDuplicateCount  \\\n",
       "0                          366814                            81774   \n",
       "1                          667720                           319500   \n",
       "2                               0                                0   \n",
       "3                         2156216                           869887   \n",
       "4                         3103553                          1006329   \n",
       "\n",
       "   bsnAPIfDot11RTSSuccessCount  bsnAPIfDot11RTSFailureCount  \\\n",
       "0                       243070                       526207   \n",
       "1                       590177                      1347650   \n",
       "2                            0                            0   \n",
       "3                      1780188                      2797429   \n",
       "4                      2816447                      6741983   \n",
       "\n",
       "           ...            bsnAPIfDot11MulticastReceivedFrameCount  \\\n",
       "0          ...                                             870978   \n",
       "1          ...                                            1011316   \n",
       "2          ...                                              68939   \n",
       "3          ...                                             497513   \n",
       "4          ...                                             891345   \n",
       "\n",
       "   bsnAPIfDot11FCSErrorCount  bsnAPIfDot11TransmittedFrameCount  \\\n",
       "0                  431671759                          214599205   \n",
       "1                  380220567                          231300303   \n",
       "2                       6188                          116856285   \n",
       "3                   93569555                          243628923   \n",
       "4                  460786107                          278925731   \n",
       "\n",
       "   bsnAPIfDot11WEPUndecryptableCount  bsnAPIfDot11FailedCount  \\\n",
       "0                                  5                  2723435   \n",
       "1                                986                  9645856   \n",
       "2                                  0                     1759   \n",
       "3                                 36                  6939857   \n",
       "4                               2321                  8446559   \n",
       "\n",
       "   bsnAPIfLoadRxUtilization  bsnAPIfLoadTxUtilization  \\\n",
       "0                         0                         0   \n",
       "1                         0                         0   \n",
       "2                         0                         0   \n",
       "3                         0                         0   \n",
       "4                         0                         0   \n",
       "\n",
       "   bsnAPIfLoadChannelUtilization  bsnAPIfLoadNumOfClients  \\\n",
       "0                              0                        0   \n",
       "1                              0                        0   \n",
       "2                              0                        0   \n",
       "3                              0                        0   \n",
       "4                              1                        1   \n",
       "\n",
       "   bsnAPIfPoorSNRClients  \n",
       "0                      0  \n",
       "1                      0  \n",
       "2                      0  \n",
       "3                      0  \n",
       "4                      1  \n",
       "\n",
       "[5 rows x 22 columns]"
      ]
     },
     "execution_count": 2,
     "metadata": {},
     "output_type": "execute_result"
    }
   ],
   "source": [
    "%store -r df\n",
    "\n",
    "df.head()"
   ]
  },
  {
   "cell_type": "code",
   "execution_count": 3,
   "metadata": {},
   "outputs": [],
   "source": [
    "import pandas as pd\n",
    "import numpy as np\n",
    "from sklearn.linear_model import LinearRegression"
   ]
  },
  {
   "cell_type": "code",
   "execution_count": 6,
   "metadata": {},
   "outputs": [
    {
     "name": "stdout",
     "output_type": "stream",
     "text": [
      "[['20150101'], ['20150102'], ['20150103'], ['20150104'], ['20150105'], ['20150106'], ['20150107'], ['20150108'], ['20150109'], ['20150110'], ['20150111'], ['20150112'], ['20150113'], ['20150114'], ['20150115'], ['20150116'], ['20150117'], ['20150118'], ['20150119'], ['20150120'], ['20150121'], ['20150122'], ['20150123'], ['20150124'], ['20150125'], ['20150126'], ['20150127'], ['20150128'], ['20150129']]\n"
     ]
    }
   ],
   "source": [
    "X_data = []\n",
    "Y_data = []\n",
    "\n",
    "for i in range(29):\n",
    "    day = \"2015-01-{:02d}-\".format(i+1)\n",
    "    dayData = df.loc[df[\"datetime\"].str.startswith(day)]\n",
    "    dayValue = dayData.sum()[\"bsnApIfNoOfUsers\"]\n",
    "    dayTime = day.replace(\"-\", \"\")\n",
    "    X_data.append([int(dayTime)])\n",
    "    Y_data.append([dayValue])\n"
   ]
  },
  {
   "cell_type": "code",
   "execution_count": 9,
   "metadata": {},
   "outputs": [
    {
     "name": "stdout",
     "output_type": "stream",
     "text": [
      "dates:  [['20150101'], ['20150102'], ['20150103'], ['20150104'], ['20150105'], ['20150106'], ['20150107'], ['20150108'], ['20150109'], ['20150110'], ['20150111'], ['20150112'], ['20150113'], ['20150114'], ['20150115'], ['20150116'], ['20150117'], ['20150118'], ['20150119'], ['20150120'], ['20150121'], ['20150122'], ['20150123'], ['20150124'], ['20150125'], ['20150126'], ['20150127'], ['20150128'], ['20150129']]\n",
      "values:  [[13206], [12562], [11145], [10180], [27926], [11933], [181396], [190127], [170343], [92472], [62945], [200156], [195618], [206253], [210226], [158550], [53158], [37167], [207300], [200353], [209189], [200548], [165011], [83804], [63625], [204317], [192180], [192015], [187023]]\n"
     ]
    }
   ],
   "source": [
    "print(\"dates: \", X_data)\n",
    "print(\"values: \", Y_data)"
   ]
  },
  {
   "cell_type": "code",
   "execution_count": 24,
   "metadata": {},
   "outputs": [
    {
     "name": "stdout",
     "output_type": "stream",
     "text": [
      "[[ 13206]\n",
      " [ 12562]\n",
      " [ 11145]\n",
      " [ 10180]\n",
      " [ 27926]\n",
      " [ 11933]\n",
      " [181396]\n",
      " [190127]\n",
      " [170343]\n",
      " [ 92472]\n",
      " [ 62945]\n",
      " [200156]\n",
      " [195618]\n",
      " [206253]\n",
      " [210226]\n",
      " [158550]\n",
      " [ 53158]\n",
      " [ 37167]\n",
      " [207300]\n",
      " [200353]\n",
      " [209189]\n",
      " [200548]\n",
      " [165011]\n",
      " [ 83804]\n",
      " [ 63625]\n",
      " [204317]\n",
      " [192180]\n",
      " [192015]\n",
      " [187023]]\n"
     ]
    }
   ],
   "source": [
    "#xses = [[int(a[0])] for a in X_data]\n",
    "X = np.array(X_data)\n",
    "Y = np.array(Y_data)\n",
    "print(Y)"
   ]
  },
  {
   "cell_type": "code",
   "execution_count": 21,
   "metadata": {},
   "outputs": [
    {
     "data": {
      "text/plain": [
       "array([[5196.18768473]])"
      ]
     },
     "execution_count": 21,
     "metadata": {},
     "output_type": "execute_result"
    }
   ],
   "source": [
    "reg = LinearRegression().fit(X, Y)\n",
    "reg.score(X, Y)"
   ]
  },
  {
   "cell_type": "code",
   "execution_count": 23,
   "metadata": {},
   "outputs": [
    {
     "data": {
      "text/plain": [
       "array([[202082.07585144]])"
      ]
     },
     "execution_count": 23,
     "metadata": {},
     "output_type": "execute_result"
    }
   ],
   "source": [
    "reg.predict(np.array([[20150129]]))"
   ]
  },
  {
   "cell_type": "code",
   "execution_count": 43,
   "metadata": {},
   "outputs": [],
   "source": [
    "def flatten(l):\n",
    "    return [item for sublist in l for item in sublist]"
   ]
  },
  {
   "cell_type": "code",
   "execution_count": 45,
   "metadata": {},
   "outputs": [],
   "source": [
    "X_flattened = flatten(X_data)\n",
    "Y_flattened = flatten(Y_data)"
   ]
  },
  {
   "cell_type": "code",
   "execution_count": 44,
   "metadata": {},
   "outputs": [
    {
     "data": {
      "text/plain": [
       "[13206,\n",
       " 12562,\n",
       " 11145,\n",
       " 10180,\n",
       " 27926,\n",
       " 11933,\n",
       " 181396,\n",
       " 190127,\n",
       " 170343,\n",
       " 92472,\n",
       " 62945,\n",
       " 200156,\n",
       " 195618,\n",
       " 206253,\n",
       " 210226,\n",
       " 158550,\n",
       " 53158,\n",
       " 37167,\n",
       " 207300,\n",
       " 200353,\n",
       " 209189,\n",
       " 200548,\n",
       " 165011,\n",
       " 83804,\n",
       " 63625,\n",
       " 204317,\n",
       " 192180,\n",
       " 192015,\n",
       " 187023]"
      ]
     },
     "execution_count": 44,
     "metadata": {},
     "output_type": "execute_result"
    }
   ],
   "source": [
    "flatten(Y_data)"
   ]
  },
  {
   "cell_type": "code",
   "execution_count": 46,
   "metadata": {},
   "outputs": [
    {
     "data": {
      "text/plain": [
       "<BarContainer object of 29 artists>"
      ]
     },
     "execution_count": 46,
     "metadata": {},
     "output_type": "execute_result"
    },
    {
     "data": {
      "image/png": "[encoded data removed]",
      "text/plain": [
       "<Figure size 432x288 with 1 Axes>"
      ]
     },
     "metadata": {},
     "output_type": "display_data"
    }
   ],
   "source": [
    "import matplotlib.pyplot as plt\n",
    "\n",
    "predicted = reg.predict(X_data)\n",
    "\n",
    "plt.bar(X_flattened, Y_flattened, align='center', alpha=0.5)\n",
    "plt.plot(X_flattened, )"
   ]
  },
  {
   "cell_type": "code",
   "execution_count": null,
   "metadata": {},
   "outputs": [],
   "source": []
  }
 ],
 "metadata": {
  "kernelspec": {
   "display_name": "Python 3",
   "language": "python",
   "name": "python3"
  },
  "language_info": {
   "codemirror_mode": {
    "name": "ipython",
    "version": 3
   },
   "file_extension": ".py",
   "mimetype": "text/x-python",
   "name": "python",
   "nbconvert_exporter": "python",
   "pygments_lexer": "ipython3",
   "version": "3.6.5"
  }
 },
 "nbformat": 4,
 "nbformat_minor": 2
}
